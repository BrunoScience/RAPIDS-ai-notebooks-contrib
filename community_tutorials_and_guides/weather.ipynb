{
 "cells": [
  {
   "cell_type": "markdown",
   "metadata": {},
   "source": [
    "## Simpler Multi-GPU ETL using Dask ##\n",
    "A major focus of the RAPIDS project is easier scaling: up *and* out.\n",
    "\n",
    "While we introduced examples of multi-gpu/multi-node data processing using Dask in our very first release, it was difficult to install, configure, and launch.\n",
    "\n",
    "Running our main example, the [Mortgage Workflow](https://github.com/rapidsai-community/showcase/tree/main/benchmarks/mortgage) required:\n",
    "1. Pre-splitting or downloading pre-split datasets\n",
    "2. Making limited use of Dask, only via the [`delayed` interface](http://docs.dask.org/en/latest/delayed.html)"
   ]
  },
  {
   "cell_type": "markdown",
   "metadata": {},
   "source": [
    "Since our first release, we've created the [dask-cuda project](https://github.com/rapidsai/dask-cuda), which automatically handles configuring Dask worker processes to make use of available GPUs, as well as improved [dask-cudf](https://github.com/rapidsai/cudf/tree/branch-21.06/python/dask_cudf) to support a variety of common ETL operations, including joins, groupbys, and friendlier parallel IO.\n",
    "\n",
    "The rest of this notebook demonstrates how we've addressed the above pains, and generally made scaling RAPIDS out to multiple-GPUs easier.\n",
    "\n",
    "First, let's see what GPUs we have available..."
   ]
  },
  {
   "cell_type": "code",
   "execution_count": 1,
   "metadata": {},
   "outputs": [
    {
     "data": {
      "text/html": [
       "<table style=\"border: 2px solid white;\">\n",
       "<tr>\n",
       "<td style=\"vertical-align: top; border: 0px solid white\">\n",
       "<h3 style=\"text-align: left;\">Client</h3>\n",
       "<ul style=\"text-align: left; list-style: none; margin: 0; padding: 0;\">\n",
       "  <li><b>Scheduler: </b>tcp://10.136.7.102:35367</li>\n",
       "  <li><b>Dashboard: </b><a href='http://10.136.7.102:8787/status' target='_blank'>http://10.136.7.102:8787/status</a></li>\n",
       "</ul>\n",
       "</td>\n",
       "<td style=\"vertical-align: top; border: 0px solid white\">\n",
       "<h3 style=\"text-align: left;\">Cluster</h3>\n",
       "<ul style=\"text-align: left; list-style:none; margin: 0; padding: 0;\">\n",
       "  <li><b>Workers: </b>4</li>\n",
       "  <li><b>Cores: </b>4</li>\n",
       "  <li><b>Memory: </b>376.55 GiB</li>\n",
       "</ul>\n",
       "</td>\n",
       "</tr>\n",
       "</table>"
      ],
      "text/plain": [
       "<Client: 'tcp://10.136.7.102:35367' processes=4 threads=4, memory=376.55 GiB>"
      ]
     },
     "execution_count": 1,
     "metadata": {},
     "output_type": "execute_result"
    }
   ],
   "source": [
    "import cudf\n",
    "import dask, dask_cudf\n",
    "import os\n",
    "import urllib.request\n",
    "from dask.distributed import Client, wait\n",
    "from dask_cuda import LocalCUDACluster\n",
    "from dask.diagnostics import ProgressBar\n",
    "\n",
    "# Use dask-cuda to start one worker per GPU on a single-node system\n",
    "# When you shutdown this notebook kernel, the Dask cluster also shuts down.\n",
    "cluster = LocalCUDACluster(ip='0.0.0.0')\n",
    "client = Client(cluster)\n",
    "# print client info\n",
    "client"
   ]
  },
  {
   "cell_type": "markdown",
   "metadata": {},
   "source": [
    "Ok, we've got a cluster of GPU workers. Notice also the link to the Dask status dashboard. It provides lots of useful information while running data processing tasks.\n",
    "\n",
    "We will now import s3fs and matplotlib libraries. If these libraries are not installed in the environment then they will be installed and imported"
   ]
  },
  {
   "cell_type": "code",
   "execution_count": 2,
   "metadata": {},
   "outputs": [
    {
     "name": "stdout",
     "output_type": "stream",
     "text": [
      "Collecting package metadata (current_repodata.json): done\n",
      "Solving environment: done\n",
      "\n",
      "\n",
      "==> WARNING: A newer version of conda exists. <==\n",
      "  current version: 4.9.2\n",
      "  latest version: 4.10.1\n",
      "\n",
      "Please update conda by running\n",
      "\n",
      "    $ conda update -n base -c defaults conda\n",
      "\n",
      "\n",
      "\n",
      "# All requested packages already installed.\n",
      "\n"
     ]
    }
   ],
   "source": [
    "!conda install -y -c conda-forge s3fs\n",
    "import urllib.request\n",
    "\n",
    "try:\n",
    "    import matplotlib.pyplot as plt\n",
    "except ImportError:\n",
    "    !conda install -y -c conda-forge matplotlib\n",
    "    import matplotlib.pyplot as plt\n",
    "    from matplotlib.pyplot import *"
   ]
  },
  {
   "cell_type": "markdown",
   "metadata": {},
   "source": [
    "\n",
    "\n",
    "## Accessing Data\n",
    "\n",
    "Now, let's download a dataset.\n",
    "\n",
    "If you're working on a local machine, you'd normally use wget, Python's `urllib` package, or another tool to pull down the data you want to analyze.\n",
    "\n",
    "For the sake of not making you wait for 200+ files to download, the cell below uses urllib to download just 20 years of weather records, and a metadata file about the stations that recorded it. You can update the `years` list if you want to download more, but it wont change the logic in the notebook either way, it'll just process more data.\n",
    "\n",
    "*Note*: The rest of the markdown commentary in this notebook assumes you're operating on all 232 years of data."
   ]
  },
  {
   "cell_type": "markdown",
   "metadata": {},
   "source": [
    "### Make and set a home for your data"
   ]
  },
  {
   "cell_type": "code",
   "execution_count": 3,
   "metadata": {},
   "outputs": [],
   "source": [
    "data_dir = '../../data/weather/'\n",
    "if not os.path.exists(data_dir):\n",
    "    print('creating weather directory')\n",
    "    os.system('mkdir -p ../../data/weather')"
   ]
  },
  {
   "cell_type": "markdown",
   "metadata": {},
   "source": [
    "### Choose and Download your data"
   ]
  },
  {
   "cell_type": "markdown",
   "metadata": {},
   "source": [
    "This step may take a few minutes as data is downloaded for nearly 20 years."
   ]
  },
  {
   "cell_type": "code",
   "execution_count": 4,
   "metadata": {},
   "outputs": [],
   "source": [
    "# download weather observations\n",
    "base_url = 'ftp://ftp.ncdc.noaa.gov/pub/data/ghcn/daily/by_year/'\n",
    "years = list(range(2000, 2020))\n",
    "for year in years:\n",
    "    fn = str(year) + '.csv.gz'\n",
    "    if not os.path.isfile(data_dir+fn):\n",
    "        print(f'Downloading {base_url+fn} to {data_dir+fn}')\n",
    "        urllib.request.urlretrieve(base_url+fn, data_dir+fn)\n",
    "        \n",
    "# download weather station metadata\n",
    "station_meta_url = 'https://www1.ncdc.noaa.gov/pub/data/ghcn/daily/ghcnd-stations.txt'\n",
    "if not os.path.isfile(data_dir+'ghcnd-stations.txt'):\n",
    "    print('Downloading station meta..')\n",
    "    urllib.request.urlretrieve(station_meta_url, data_dir+'ghcnd-stations.txt')"
   ]
  },
  {
   "cell_type": "markdown",
   "metadata": {},
   "source": [
    "## Alternatives to Pre-Downloading Data\n",
    "\n",
    "While downloading or copying data to your local environment is a good way to get started, many users will want other options:\n",
    "\n",
    "1. Reading directly from distributed storage, like HDFS\n",
    "2. Reading from cloud storage (S3, GCS, ADLS, etc)\n",
    "\n",
    "See [Dask Remote Data Services](http://docs.dask.org/en/latest/remote-data-services.html) for more details on supported providers, authentication, and other storage configuration options.\n",
    "\n",
    "Here's an example of reading the same weather data, conveniently available in a public Amazon S3 bucket.\n",
    "\n",
    "But first make sure your Python environment has the right packages to read from your storage system of choice.\n",
    "\n",
    "For this example: ```conda install -y s3fs```"
   ]
  },
  {
   "cell_type": "code",
   "execution_count": 5,
   "metadata": {},
   "outputs": [
    {
     "data": {
      "text/html": [
       "<div><strong>Dask DataFrame Structure:</strong></div>\n",
       "<div>\n",
       "<style scoped>\n",
       "    .dataframe tbody tr th:only-of-type {\n",
       "        vertical-align: middle;\n",
       "    }\n",
       "\n",
       "    .dataframe tbody tr th {\n",
       "        vertical-align: top;\n",
       "    }\n",
       "\n",
       "    .dataframe thead th {\n",
       "        text-align: right;\n",
       "    }\n",
       "</style>\n",
       "<table border=\"1\" class=\"dataframe\">\n",
       "  <thead>\n",
       "    <tr style=\"text-align: right;\">\n",
       "      <th></th>\n",
       "      <th>station_id</th>\n",
       "      <th>date</th>\n",
       "      <th>type</th>\n",
       "      <th>val</th>\n",
       "    </tr>\n",
       "    <tr>\n",
       "      <th>npartitions=1</th>\n",
       "      <th></th>\n",
       "      <th></th>\n",
       "      <th></th>\n",
       "      <th></th>\n",
       "    </tr>\n",
       "  </thead>\n",
       "  <tbody>\n",
       "    <tr>\n",
       "      <th></th>\n",
       "      <td>object</td>\n",
       "      <td>int64</td>\n",
       "      <td>object</td>\n",
       "      <td>int64</td>\n",
       "    </tr>\n",
       "    <tr>\n",
       "      <th></th>\n",
       "      <td>...</td>\n",
       "      <td>...</td>\n",
       "      <td>...</td>\n",
       "      <td>...</td>\n",
       "    </tr>\n",
       "  </tbody>\n",
       "</table>\n",
       "</div>\n",
       "<div>Dask Name: read-csv, 1 tasks</div>"
      ],
      "text/plain": [
       "<dask_cudf.DataFrame | 1 tasks | 1 npartitions>"
      ]
     },
     "execution_count": 5,
     "metadata": {},
     "output_type": "execute_result"
    }
   ],
   "source": [
    "# these CSV files don't have headers, we specify column names manually\n",
    "names = [\"station_id\", \"date\", \"type\", \"val\"]\n",
    "# there are more fields, but only the first 4 are relevant in this notebook\n",
    "usecols = names[0:4]\n",
    "\n",
    "url = 's3://noaa-ghcn-pds/csv/1788.csv'\n",
    "dask_cudf.read_csv(url, names=names, usecols=usecols, storage_options={'anon': True})"
   ]
  },
  {
   "cell_type": "markdown",
   "metadata": {},
   "source": [
    "##  Reading Large & Multi-File DataSets\n",
    "\n",
    "Wait... there are many weather files: one for each year going back to the 1780s.\n",
    "\n",
    "To read all these files in, we used to have to use a for-loop, manually concatenating dataframes, or use [`dask.delayed`](http://docs.dask.org/en/latest/delayed.html) functions that invoke cuDF.read_csv.\n",
    "\n",
    "Fortunately, now there's `dask_cudf.read_csv`, which supports file globs, _and_ automatically splits files into chunks that can be processed serially when needed, so you're less likely to run out of memory.\n",
    "\n",
    "When you call `dask_cudf.read_csv`, Dask reads metadata for each CSV file and tasks workers with lists of filenames & byte-ranges that they're responsible for loading with cuDF's GPU CSV reader.\n",
    "\n",
    "*Note*: compressed files are not splittable on read, but you can [repartition](https://docs.dask.org/en/latest/dataframe-best-practices.html#repartition-to-reduce-overhead) them downstream."
   ]
  },
  {
   "cell_type": "code",
   "execution_count": 6,
   "metadata": {},
   "outputs": [],
   "source": [
    "weather_ddf = dask_cudf.read_csv(data_dir+'*.csv.gz', names=names, usecols=usecols, compression='gzip', chunksize=None)"
   ]
  },
  {
   "cell_type": "markdown",
   "metadata": {},
   "source": [
    "## Let's Process Some Data\n",
    "\n",
    "Per the [readme](https://docs.opendata.aws/noaa-ghcn-pds/readme.html) for this dataset, multiple types of weather observations are in the same files, and each carries a different units of measure:\n",
    "\n",
    "| Observation Type  | Existing Units | Action |\n",
    "| ------------- | ------------- | ------------- |\n",
    "| PRCP | Precipitation (tenths of mm) | convert to inches |\n",
    "| SNWD | Snow depth (mm) | convert to inches |\n",
    "| TMAX | tenths of degrees C | convert to fahrenheit |\n",
    "| TMIN | tenths of degrees C | convert to fahrenheit |\n",
    "\n",
    "There are more even more observation types, each with their own units of measure, but I wont list them all. In this notebook, I'm going to focus specifically on precipitation.\n",
    "\n",
    "The `type` column tells us what kind of weather observation each record represents. Ordinarily, you might use `query` to filter out subsets of records and apply different logic to each subset. However, [query doesn't support string datatypes yet](https://github.com/rapidsai/cudf/issues/111). Instead, you can use boolean indexing.\n",
    "\n",
    "For numeric types, Dask with cuDF works mostly like regular Dask. For instance, you can define new columns as combinations of other columns:"
   ]
  },
  {
   "cell_type": "code",
   "execution_count": 7,
   "metadata": {},
   "outputs": [],
   "source": [
    "precip_index = weather_ddf['type'] == 'PRCP'\n",
    "precip_ddf = weather_ddf[precip_index]\n",
    "\n",
    "# convert 10ths of mm to inches\n",
    "mm_to_inches = 0.0393701\n",
    "precip_ddf['val'] = precip_ddf['val'] * 1/10 * mm_to_inches"
   ]
  },
  {
   "cell_type": "markdown",
   "metadata": {},
   "source": [
    "Note: Calling .head() will read the first few rows, usually from the first partition.\n",
    "\n",
    "In our case, the first partition represents weather data from 1788. Apparently, there wasn't _any_ precipitation data collected that year:\n",
    "\n",
    "Beware in your own analyes, that you .head() from partitions that you haven't already filtered everything out of!"
   ]
  },
  {
   "cell_type": "code",
   "execution_count": 8,
   "metadata": {},
   "outputs": [
    {
     "data": {
      "text/html": [
       "<div>\n",
       "<style scoped>\n",
       "    .dataframe tbody tr th:only-of-type {\n",
       "        vertical-align: middle;\n",
       "    }\n",
       "\n",
       "    .dataframe tbody tr th {\n",
       "        vertical-align: top;\n",
       "    }\n",
       "\n",
       "    .dataframe thead th {\n",
       "        text-align: right;\n",
       "    }\n",
       "</style>\n",
       "<table border=\"1\" class=\"dataframe\">\n",
       "  <thead>\n",
       "    <tr style=\"text-align: right;\">\n",
       "      <th></th>\n",
       "      <th>station_id</th>\n",
       "      <th>date</th>\n",
       "      <th>type</th>\n",
       "      <th>val</th>\n",
       "    </tr>\n",
       "  </thead>\n",
       "  <tbody>\n",
       "    <tr>\n",
       "      <th>27</th>\n",
       "      <td>AGM00060355</td>\n",
       "      <td>20010101</td>\n",
       "      <td>PRCP</td>\n",
       "      <td>0.039370</td>\n",
       "    </tr>\n",
       "    <tr>\n",
       "      <th>30</th>\n",
       "      <td>AGM00060360</td>\n",
       "      <td>20010101</td>\n",
       "      <td>PRCP</td>\n",
       "      <td>0.118110</td>\n",
       "    </tr>\n",
       "    <tr>\n",
       "      <th>33</th>\n",
       "      <td>AGM00060402</td>\n",
       "      <td>20010101</td>\n",
       "      <td>PRCP</td>\n",
       "      <td>0.161417</td>\n",
       "    </tr>\n",
       "    <tr>\n",
       "      <th>37</th>\n",
       "      <td>AGM00060419</td>\n",
       "      <td>20010101</td>\n",
       "      <td>PRCP</td>\n",
       "      <td>0.078740</td>\n",
       "    </tr>\n",
       "    <tr>\n",
       "      <th>47</th>\n",
       "      <td>AGM00060445</td>\n",
       "      <td>20010101</td>\n",
       "      <td>PRCP</td>\n",
       "      <td>0.039370</td>\n",
       "    </tr>\n",
       "  </tbody>\n",
       "</table>\n",
       "</div>"
      ],
      "text/plain": [
       "     station_id      date  type       val\n",
       "27  AGM00060355  20010101  PRCP  0.039370\n",
       "30  AGM00060360  20010101  PRCP  0.118110\n",
       "33  AGM00060402  20010101  PRCP  0.161417\n",
       "37  AGM00060419  20010101  PRCP  0.078740\n",
       "47  AGM00060445  20010101  PRCP  0.039370"
      ]
     },
     "execution_count": 8,
     "metadata": {},
     "output_type": "execute_result"
    }
   ],
   "source": [
    "precip_ddf.get_partition(1).head()"
   ]
  },
  {
   "cell_type": "markdown",
   "metadata": {},
   "source": [
    "Ok, we have a lot of weather observations. Now what?\n",
    "\n",
    "# Answering Questions With Data ##\n",
    "\n",
    "For some reason, residents of particular cities like to lay claim to having the best, or the worst of something. For Los Angeles, it's having the worst traffic. New Yorkers and Chicagoans argue over who has the best pizza. [West Coasters argue about who has the most rain](https://twitter.com/MikeNiccoABC7/status/1105184947663396864).\n",
    "\n",
    "Well... as a longtime Atlanta resident suffering from humidity exhaustion, I like to joke that with all the spring showers, _Atlanta_ is the new Seattle.\n",
    "\n",
    "Does my theory hold water? Or will the data rain on my bad pun parade?"
   ]
  },
  {
   "cell_type": "markdown",
   "metadata": {},
   "source": [
    "# How Can I Test My Theory?\n",
    "\n",
    "We've already created `precip_df`, which is only the precipitation observations, but it's for all 100k weather stations, most of them no-where near Atlanta, and this is time-series data, so we'll need to aggregate over time ranges.\n",
    "\n",
    "To get down to just Atlanta and Seattle precipitation records, we have to...\n",
    "\n",
    "1. Extract year, month, and day from the compound \"date\" column, so that we can compare total rainfall across time.\n",
    "\n",
    "2. Load up the station metadata file.\n",
    "\n",
    "3. There's no \"city\" in the station metadata, so we'll do some geo-math and keep only stations near Atlanta and Seattle.\n",
    "\n",
    "4. Use a Groupby to compare changing precipitation patterns across time\n",
    "\n",
    "5. Use inner joins to filter the precipitation dataframe down to just Atlanta & Seattle data."
   ]
  },
  {
   "cell_type": "markdown",
   "metadata": {},
   "source": [
    "## 1. Extracting Finer Grained Date Fields\n",
    "\n",
    "We can use cudf's to_datetime function to map our date column into separate date parts. Dask's [map_partitions](https://docs.dask.org/en/latest/dataframe-api.html#dask.dataframe.Series.map_partitions) function applies a given Python function to all partitions of a distributed DataFrame or Series. When you do this on a dask_cudf df or series, your input is a cuDF object."
   ]
  },
  {
   "cell_type": "code",
   "execution_count": 19,
   "metadata": {},
   "outputs": [
    {
     "data": {
      "text/html": [
       "<div>\n",
       "<style scoped>\n",
       "    .dataframe tbody tr th:only-of-type {\n",
       "        vertical-align: middle;\n",
       "    }\n",
       "\n",
       "    .dataframe tbody tr th {\n",
       "        vertical-align: top;\n",
       "    }\n",
       "\n",
       "    .dataframe thead th {\n",
       "        text-align: right;\n",
       "    }\n",
       "</style>\n",
       "<table border=\"1\" class=\"dataframe\">\n",
       "  <thead>\n",
       "    <tr style=\"text-align: right;\">\n",
       "      <th></th>\n",
       "      <th>station_id</th>\n",
       "      <th>date</th>\n",
       "      <th>type</th>\n",
       "      <th>val</th>\n",
       "      <th>year</th>\n",
       "      <th>month</th>\n",
       "      <th>day</th>\n",
       "    </tr>\n",
       "  </thead>\n",
       "  <tbody>\n",
       "    <tr>\n",
       "      <th>14</th>\n",
       "      <td>AG000060390</td>\n",
       "      <td>20000101</td>\n",
       "      <td>PRCP</td>\n",
       "      <td>0.031496</td>\n",
       "      <td>2000</td>\n",
       "      <td>1</td>\n",
       "      <td>1</td>\n",
       "    </tr>\n",
       "    <tr>\n",
       "      <th>18</th>\n",
       "      <td>AG000060590</td>\n",
       "      <td>20000101</td>\n",
       "      <td>PRCP</td>\n",
       "      <td>0.000000</td>\n",
       "      <td>2000</td>\n",
       "      <td>1</td>\n",
       "      <td>1</td>\n",
       "    </tr>\n",
       "    <tr>\n",
       "      <th>21</th>\n",
       "      <td>AG000060611</td>\n",
       "      <td>20000101</td>\n",
       "      <td>PRCP</td>\n",
       "      <td>0.000000</td>\n",
       "      <td>2000</td>\n",
       "      <td>1</td>\n",
       "      <td>1</td>\n",
       "    </tr>\n",
       "    <tr>\n",
       "      <th>24</th>\n",
       "      <td>AG000060680</td>\n",
       "      <td>20000101</td>\n",
       "      <td>PRCP</td>\n",
       "      <td>0.000000</td>\n",
       "      <td>2000</td>\n",
       "      <td>1</td>\n",
       "      <td>1</td>\n",
       "    </tr>\n",
       "    <tr>\n",
       "      <th>28</th>\n",
       "      <td>AGE00147718</td>\n",
       "      <td>20000101</td>\n",
       "      <td>PRCP</td>\n",
       "      <td>0.000000</td>\n",
       "      <td>2000</td>\n",
       "      <td>1</td>\n",
       "      <td>1</td>\n",
       "    </tr>\n",
       "  </tbody>\n",
       "</table>\n",
       "</div>"
      ],
      "text/plain": [
       "     station_id      date  type       val  year  month  day\n",
       "14  AG000060390  20000101  PRCP  0.031496  2000      1    1\n",
       "18  AG000060590  20000101  PRCP  0.000000  2000      1    1\n",
       "21  AG000060611  20000101  PRCP  0.000000  2000      1    1\n",
       "24  AG000060680  20000101  PRCP  0.000000  2000      1    1\n",
       "28  AGE00147718  20000101  PRCP  0.000000  2000      1    1"
      ]
     },
     "execution_count": 19,
     "metadata": {},
     "output_type": "execute_result"
    }
   ],
   "source": [
    "#convert date column to a series of datetime objects\n",
    "dates = precip_ddf['date'].map_partitions(cudf.to_datetime, format='%Y%m%d')\n",
    "\n",
    "#assign new columns to their respective date parts\n",
    "precip_ddf['year'] = dates.dt.year\n",
    "precip_ddf['month'] = dates.dt.month\n",
    "precip_ddf['day'] = dates.dt.day\n",
    "\n",
    "precip_ddf.head()"
   ]
  },
  {
   "cell_type": "markdown",
   "metadata": {},
   "source": [
    "The map_partitions pattern is also useful whenever there are cuDF specific functions without a direct mapping into Dask."
   ]
  },
  {
   "cell_type": "markdown",
   "metadata": {},
   "source": [
    "## 2. Loading Station Metadata ##"
   ]
  },
  {
   "cell_type": "code",
   "execution_count": 20,
   "metadata": {},
   "outputs": [
    {
     "name": "stdout",
     "output_type": "stream",
     "text": [
      "head: cannot open '/data/weather/ghcnd-stations.txt' for reading: No such file or directory\n"
     ]
    }
   ],
   "source": [
    "!head -n 5 /data/weather/ghcnd-stations.txt"
   ]
  },
  {
   "cell_type": "markdown",
   "metadata": {},
   "source": [
    "Wait... That's no CSV file! It's fixed-width!\n",
    "\n",
    "That's annoying because we don't have a reader for it. We could use CPU code to pre-process the file, making it friendlier for loading into a DataFrame, but, RAPIDS is about end-to-end data processing without leaving the GPU.\n",
    "\n",
    "This file is small enough that we can handle it directly with cuDF on a single GPU.\n",
    "\n",
    "*Warning*: Make sure you [create your dask-cuda cluster _before_ importing cudf](https://github.com/rapidsai/dask-cuda/issues/32).\n",
    "\n",
    "Here's how to cleanup this metadata using cuDF and string operations:"
   ]
  },
  {
   "cell_type": "code",
   "execution_count": 12,
   "metadata": {},
   "outputs": [
    {
     "data": {
      "text/html": [
       "<div>\n",
       "<style scoped>\n",
       "    .dataframe tbody tr th:only-of-type {\n",
       "        vertical-align: middle;\n",
       "    }\n",
       "\n",
       "    .dataframe tbody tr th {\n",
       "        vertical-align: top;\n",
       "    }\n",
       "\n",
       "    .dataframe thead th {\n",
       "        text-align: right;\n",
       "    }\n",
       "</style>\n",
       "<table border=\"1\" class=\"dataframe\">\n",
       "  <thead>\n",
       "    <tr style=\"text-align: right;\">\n",
       "      <th></th>\n",
       "      <th>station_id</th>\n",
       "      <th>latitude</th>\n",
       "      <th>longitude</th>\n",
       "    </tr>\n",
       "  </thead>\n",
       "  <tbody>\n",
       "    <tr>\n",
       "      <th>0</th>\n",
       "      <td>ACW00011604</td>\n",
       "      <td>17.1167</td>\n",
       "      <td>-61.7833</td>\n",
       "    </tr>\n",
       "    <tr>\n",
       "      <th>1</th>\n",
       "      <td>ACW00011647</td>\n",
       "      <td>17.1333</td>\n",
       "      <td>-61.7833</td>\n",
       "    </tr>\n",
       "    <tr>\n",
       "      <th>2</th>\n",
       "      <td>AE000041196</td>\n",
       "      <td>25.3330</td>\n",
       "      <td>55.5170</td>\n",
       "    </tr>\n",
       "    <tr>\n",
       "      <th>3</th>\n",
       "      <td>AEM00041194</td>\n",
       "      <td>25.2550</td>\n",
       "      <td>55.3640</td>\n",
       "    </tr>\n",
       "    <tr>\n",
       "      <th>4</th>\n",
       "      <td>AEM00041217</td>\n",
       "      <td>24.4330</td>\n",
       "      <td>54.6510</td>\n",
       "    </tr>\n",
       "  </tbody>\n",
       "</table>\n",
       "</div>"
      ],
      "text/plain": [
       "    station_id latitude longitude\n",
       "0  ACW00011604  17.1167  -61.7833\n",
       "1  ACW00011647  17.1333  -61.7833\n",
       "2  AE000041196  25.3330   55.5170\n",
       "3  AEM00041194  25.2550   55.3640\n",
       "4  AEM00041217  24.4330   54.6510"
      ]
     },
     "execution_count": 12,
     "metadata": {},
     "output_type": "execute_result"
    }
   ],
   "source": [
    "import cudf\n",
    "\n",
    "fn = data_dir+'ghcnd-stations.txt'\n",
    "# There are no '|' chars in the file. Use that to read the file as a single column per line\n",
    "# quoting=3 handles misplaced quotes in the `name` field \n",
    "station_df = cudf.read_csv(fn, sep='|', quoting=3, names=['lines'], header=None)\n",
    "\n",
    "# you can use normal DataFrame .str accessor, and chain operators together\n",
    "station_df['station_id'] = station_df['lines'].str.slice(0, 11).str.strip()\n",
    "station_df['latitude'] = station_df['lines'].str.slice(12, 20).str.strip()\n",
    "station_df['longitude'] = station_df['lines'].str.slice(21, 30).str.strip()\n",
    "station_df = station_df.drop('lines', axis=1)\n",
    "\n",
    "station_df.head()"
   ]
  },
  {
   "cell_type": "markdown",
   "metadata": {},
   "source": [
    "# Managing Memory\n",
    "\n",
    "While GPU memory is very fast, there's less of it than host RAM. It's a good idea to avoid storing lots of columns that aren't useful for what you're trying to do, especially when they're strings.\n",
    "\n",
    "For example, for the station metadata, there are more columns than we parsed out above. In this workflow we only need `station_id`, `latitude`, and `longitude`, so we skipped parsing the rest of the columns.\n",
    "\n",
    "We also need to convert latitude and longitude from strings to floats, and convert the single-GPU DataFrame to a Dask DataFrame that can be distributed across workers."
   ]
  },
  {
   "cell_type": "code",
   "execution_count": 13,
   "metadata": {},
   "outputs": [],
   "source": [
    "# you can cast string columns to numerics\n",
    "station_df['latitude'] = station_df['latitude'].astype('float')\n",
    "station_df['longitude'] = station_df['longitude'].astype('float')"
   ]
  },
  {
   "cell_type": "markdown",
   "metadata": {},
   "source": [
    "## 3. Filtering Weather Stations by Distance\n",
    "\n",
    "We will be using cuSpatial to get the Haversine Distance and figure out which stations are within a given distance from a city.\n",
    "\n",
    "For this scenario, we've manually looked up Atlanta and Seattle's city centers and will fill `cudf.Series` with their latitude and longitude values. Then we can call a cuSpatial function to compute the distance between each station and each city."
   ]
  },
  {
   "cell_type": "code",
   "execution_count": 14,
   "metadata": {},
   "outputs": [],
   "source": [
    "import cuspatial\n",
    "\n",
    "# fill new Series with Atlanta lat/lng\n",
    "station_df['atlanta_lat'] = 33.7490\n",
    "station_df['atlanta_lng'] = -84.3880\n",
    "# compute distance from each station to Atlanta\n",
    "station_df['atlanta_dist'] = cuspatial.haversine_distance(\n",
    "    station_df['longitude'], station_df['latitude'],\n",
    "    station_df['atlanta_lng'], station_df['atlanta_lat']\n",
    ")\n",
    "\n",
    "# fill new Series with Seattle lat/lng\n",
    "station_df['seattle_lat'] = 47.6219\n",
    "station_df['seattle_lng'] = -122.3517\n",
    "# compute distance from each station to Seattle\n",
    "station_df['seattle_dist'] = cuspatial.haversine_distance(\n",
    "    station_df['longitude'], station_df['latitude'],\n",
    "    station_df['seattle_lng'], station_df['seattle_lat']\n",
    ")"
   ]
  },
  {
   "cell_type": "markdown",
   "metadata": {},
   "source": [
    "### Checking the Results"
   ]
  },
  {
   "cell_type": "code",
   "execution_count": 15,
   "metadata": {},
   "outputs": [
    {
     "name": "stdout",
     "output_type": "stream",
     "text": [
      "Atlanta Stations: 69\n",
      "Seattle Stations: 132\n"
     ]
    },
    {
     "data": {
      "text/html": [
       "<div>\n",
       "<style scoped>\n",
       "    .dataframe tbody tr th:only-of-type {\n",
       "        vertical-align: middle;\n",
       "    }\n",
       "\n",
       "    .dataframe tbody tr th {\n",
       "        vertical-align: top;\n",
       "    }\n",
       "\n",
       "    .dataframe thead th {\n",
       "        text-align: right;\n",
       "    }\n",
       "</style>\n",
       "<table border=\"1\" class=\"dataframe\">\n",
       "  <thead>\n",
       "    <tr style=\"text-align: right;\">\n",
       "      <th></th>\n",
       "      <th>station_id</th>\n",
       "      <th>latitude</th>\n",
       "      <th>longitude</th>\n",
       "      <th>atlanta_lat</th>\n",
       "      <th>atlanta_lng</th>\n",
       "      <th>atlanta_dist</th>\n",
       "      <th>seattle_lat</th>\n",
       "      <th>seattle_lng</th>\n",
       "      <th>seattle_dist</th>\n",
       "    </tr>\n",
       "  </thead>\n",
       "  <tbody>\n",
       "    <tr>\n",
       "      <th>62641</th>\n",
       "      <td>US1GACB0002</td>\n",
       "      <td>33.8939</td>\n",
       "      <td>-84.4938</td>\n",
       "      <td>33.749</td>\n",
       "      <td>-84.388</td>\n",
       "      <td>18.844744</td>\n",
       "      <td>47.6219</td>\n",
       "      <td>-122.3517</td>\n",
       "      <td>3489.923424</td>\n",
       "    </tr>\n",
       "    <tr>\n",
       "      <th>62643</th>\n",
       "      <td>US1GACB0004</td>\n",
       "      <td>33.9512</td>\n",
       "      <td>-84.4219</td>\n",
       "      <td>33.749</td>\n",
       "      <td>-84.388</td>\n",
       "      <td>22.700514</td>\n",
       "      <td>47.6219</td>\n",
       "      <td>-122.3517</td>\n",
       "      <td>3491.328996</td>\n",
       "    </tr>\n",
       "    <tr>\n",
       "      <th>62644</th>\n",
       "      <td>US1GACB0005</td>\n",
       "      <td>33.8274</td>\n",
       "      <td>-84.4988</td>\n",
       "      <td>33.749</td>\n",
       "      <td>-84.388</td>\n",
       "      <td>13.447851</td>\n",
       "      <td>47.6219</td>\n",
       "      <td>-122.3517</td>\n",
       "      <td>3494.054111</td>\n",
       "    </tr>\n",
       "    <tr>\n",
       "      <th>62646</th>\n",
       "      <td>US1GACB0007</td>\n",
       "      <td>33.8714</td>\n",
       "      <td>-84.5221</td>\n",
       "      <td>33.749</td>\n",
       "      <td>-84.388</td>\n",
       "      <td>18.404877</td>\n",
       "      <td>47.6219</td>\n",
       "      <td>-122.3517</td>\n",
       "      <td>3489.369691</td>\n",
       "    </tr>\n",
       "    <tr>\n",
       "      <th>62648</th>\n",
       "      <td>US1GACB0014</td>\n",
       "      <td>33.8907</td>\n",
       "      <td>-84.5946</td>\n",
       "      <td>33.749</td>\n",
       "      <td>-84.388</td>\n",
       "      <td>24.749221</td>\n",
       "      <td>47.6219</td>\n",
       "      <td>-122.3517</td>\n",
       "      <td>3482.751406</td>\n",
       "    </tr>\n",
       "  </tbody>\n",
       "</table>\n",
       "</div>"
      ],
      "text/plain": [
       "        station_id  latitude  longitude  atlanta_lat  atlanta_lng  \\\n",
       "62641  US1GACB0002   33.8939   -84.4938       33.749      -84.388   \n",
       "62643  US1GACB0004   33.9512   -84.4219       33.749      -84.388   \n",
       "62644  US1GACB0005   33.8274   -84.4988       33.749      -84.388   \n",
       "62646  US1GACB0007   33.8714   -84.5221       33.749      -84.388   \n",
       "62648  US1GACB0014   33.8907   -84.5946       33.749      -84.388   \n",
       "\n",
       "       atlanta_dist  seattle_lat  seattle_lng  seattle_dist  \n",
       "62641     18.844744      47.6219    -122.3517   3489.923424  \n",
       "62643     22.700514      47.6219    -122.3517   3491.328996  \n",
       "62644     13.447851      47.6219    -122.3517   3494.054111  \n",
       "62646     18.404877      47.6219    -122.3517   3489.369691  \n",
       "62648     24.749221      47.6219    -122.3517   3482.751406  "
      ]
     },
     "execution_count": 15,
     "metadata": {},
     "output_type": "execute_result"
    }
   ],
   "source": [
    "# Inspect the results:\n",
    "atlanta_stations_df = station_df.query('atlanta_dist <= 25')\n",
    "seattle_stations_df = station_df.query('seattle_dist <= 25')\n",
    "\n",
    "print(f'Atlanta Stations: {len(atlanta_stations_df)}')\n",
    "print(f'Seattle Stations: {len(seattle_stations_df)}')\n",
    "\n",
    "atlanta_stations_df.head()"
   ]
  },
  {
   "cell_type": "markdown",
   "metadata": {},
   "source": [
    "[Google tells me those station ids are from Smyrna](https://geographic.org/global_weather/georgia/smyrna_23_ne_002.html), a town just outside of Atlanta's perimeter. Our distance calculation worked!"
   ]
  },
  {
   "cell_type": "markdown",
   "metadata": {},
   "source": [
    "## 4. Grouping & Aggregating by Time Range\n",
    "\n",
    "Before using an inner join to filter down to city-specific precipitation data, we can use a groupby to sum the precipitation for station and year. That'll allow the join to proceed faster and use less memory.\n",
    "\n",
    "One total precipitation record per station per year is relatively small, and we're going to need to graph this data, so we'll go ahead and `compute()` the result, asking Dask to aggregate across the 200+ years worth of data, bringing the results back to the client as a single GPU cuDF DataFrame.\n",
    "\n",
    "Note that with Dask, data is partitioned and distributed across multiple workers. Some operations require that workers \"[shuffle](http://docs.dask.org/en/latest/dataframe-groupby.html#)\" data from their partitions back and forth across the network, which has major performance implications. Today join, groupby, and sort operations can be fairly network constrained.\n",
    "\n",
    "See the [slides](https://www.slideshare.net/MatthewRocklin/ucxpython-a-flexible-communication-library-for-python-applications) from a recent talk at GTC San Jose to learn more about [ongoing efforts to integrate Dask with UCX](https://github.com/rapidsai/ucx-py/) and allow it to use accelerated networking hardware like Infiniband and [nvlink](https://www.nvidia.com/en-us/data-center/nvlink/).\n",
    "\n",
    "In the meantime, distributed operators that require shuffling like joins, groupbys, and sorts work, albeit not as fast as we'd like."
   ]
  },
  {
   "cell_type": "code",
   "execution_count": 16,
   "metadata": {},
   "outputs": [],
   "source": [
    "precip_year_ddf = precip_ddf.groupby(by=['station_id', 'year']).val.sum()"
   ]
  },
  {
   "cell_type": "markdown",
   "metadata": {},
   "source": [
    "Note that we're calling `compute` again here. This tells Dask to actually start computing the full set of processing logic defined thus far:\n",
    "\n",
    "1. Read and decompress 232 gzipped files (about 100 GB decompressed)\n",
    "2. Send to the GPU and parse\n",
    "3. Filter down to precipitation records\n",
    "4. Apply a conversion to inches\n",
    "5. Sum total inches of rain per year per each of the 108k weather stations\n",
    "6. Combine and pull results a single GPU DataFrame on the client host\n",
    "\n",
    "To wit.. this will take time."
   ]
  },
  {
   "cell_type": "code",
   "execution_count": 17,
   "metadata": {},
   "outputs": [
    {
     "name": "stdout",
     "output_type": "stream",
     "text": [
      "CPU times: user 1.39 s, sys: 244 ms, total: 1.63 s\n",
      "Wall time: 32.1 s\n"
     ]
    }
   ],
   "source": [
    "%time precip_year_df = precip_year_ddf.compute()\n",
    "\n",
    "# Convert from the groupby multi-indexed DataFrame back to a normal DF which we can use with merge\n",
    "precip_year_df = precip_year_df.reset_index()"
   ]
  },
  {
   "cell_type": "markdown",
   "metadata": {},
   "source": [
    "## 5. Using Inner Joins to Filter Weather Observations\n",
    "\n",
    "We have separate DataFrames containing Atlanta and Seattle stations, and we have our total precipitation grouped by `station_id` and `year`. Computing inner joins can let us compute total precipitation by year for just Atlanta and Seattle."
   ]
  },
  {
   "cell_type": "code",
   "execution_count": 18,
   "metadata": {},
   "outputs": [
    {
     "name": "stdout",
     "output_type": "stream",
     "text": [
      "CPU times: user 3.12 ms, sys: 4.01 ms, total: 7.13 ms\n",
      "Wall time: 6.26 ms\n"
     ]
    }
   ],
   "source": [
    "%time atlanta_precip_df = precip_year_df.merge(atlanta_stations_df, on=['station_id'], how='inner')"
   ]
  },
  {
   "cell_type": "code",
   "execution_count": 19,
   "metadata": {},
   "outputs": [
    {
     "data": {
      "text/html": [
       "<div>\n",
       "<style scoped>\n",
       "    .dataframe tbody tr th:only-of-type {\n",
       "        vertical-align: middle;\n",
       "    }\n",
       "\n",
       "    .dataframe tbody tr th {\n",
       "        vertical-align: top;\n",
       "    }\n",
       "\n",
       "    .dataframe thead th {\n",
       "        text-align: right;\n",
       "    }\n",
       "</style>\n",
       "<table border=\"1\" class=\"dataframe\">\n",
       "  <thead>\n",
       "    <tr style=\"text-align: right;\">\n",
       "      <th></th>\n",
       "      <th>station_id</th>\n",
       "      <th>year</th>\n",
       "      <th>val</th>\n",
       "      <th>latitude</th>\n",
       "      <th>longitude</th>\n",
       "      <th>atlanta_lat</th>\n",
       "      <th>atlanta_lng</th>\n",
       "      <th>atlanta_dist</th>\n",
       "      <th>seattle_lat</th>\n",
       "      <th>seattle_lng</th>\n",
       "      <th>seattle_dist</th>\n",
       "    </tr>\n",
       "  </thead>\n",
       "  <tbody>\n",
       "    <tr>\n",
       "      <th>0</th>\n",
       "      <td>US1GAFT0042</td>\n",
       "      <td>2016</td>\n",
       "      <td>27.074818</td>\n",
       "      <td>33.7869</td>\n",
       "      <td>-84.3518</td>\n",
       "      <td>33.749</td>\n",
       "      <td>-84.388</td>\n",
       "      <td>5.381182</td>\n",
       "      <td>47.6219</td>\n",
       "      <td>-122.3517</td>\n",
       "      <td>3507.570126</td>\n",
       "    </tr>\n",
       "    <tr>\n",
       "      <th>1</th>\n",
       "      <td>US1GACB0002</td>\n",
       "      <td>2016</td>\n",
       "      <td>33.559073</td>\n",
       "      <td>33.8939</td>\n",
       "      <td>-84.4938</td>\n",
       "      <td>33.749</td>\n",
       "      <td>-84.388</td>\n",
       "      <td>18.844744</td>\n",
       "      <td>47.6219</td>\n",
       "      <td>-122.3517</td>\n",
       "      <td>3489.923424</td>\n",
       "    </tr>\n",
       "    <tr>\n",
       "      <th>2</th>\n",
       "      <td>US1GAFT0037</td>\n",
       "      <td>2018</td>\n",
       "      <td>63.582711</td>\n",
       "      <td>33.7171</td>\n",
       "      <td>-84.4211</td>\n",
       "      <td>33.749</td>\n",
       "      <td>-84.388</td>\n",
       "      <td>4.685188</td>\n",
       "      <td>47.6219</td>\n",
       "      <td>-122.3517</td>\n",
       "      <td>3507.224103</td>\n",
       "    </tr>\n",
       "    <tr>\n",
       "      <th>3</th>\n",
       "      <td>US1GADK0049</td>\n",
       "      <td>2019</td>\n",
       "      <td>51.236248</td>\n",
       "      <td>33.7671</td>\n",
       "      <td>-84.2590</td>\n",
       "      <td>33.749</td>\n",
       "      <td>-84.388</td>\n",
       "      <td>12.094239</td>\n",
       "      <td>47.6219</td>\n",
       "      <td>-122.3517</td>\n",
       "      <td>3515.714198</td>\n",
       "    </tr>\n",
       "    <tr>\n",
       "      <th>4</th>\n",
       "      <td>US1GACN0008</td>\n",
       "      <td>2017</td>\n",
       "      <td>24.901588</td>\n",
       "      <td>33.5967</td>\n",
       "      <td>-84.3369</td>\n",
       "      <td>33.749</td>\n",
       "      <td>-84.388</td>\n",
       "      <td>17.582788</td>\n",
       "      <td>47.6219</td>\n",
       "      <td>-122.3517</td>\n",
       "      <td>3521.576228</td>\n",
       "    </tr>\n",
       "  </tbody>\n",
       "</table>\n",
       "</div>"
      ],
      "text/plain": [
       "    station_id  year        val  latitude  longitude  atlanta_lat  \\\n",
       "0  US1GAFT0042  2016  27.074818   33.7869   -84.3518       33.749   \n",
       "1  US1GACB0002  2016  33.559073   33.8939   -84.4938       33.749   \n",
       "2  US1GAFT0037  2018  63.582711   33.7171   -84.4211       33.749   \n",
       "3  US1GADK0049  2019  51.236248   33.7671   -84.2590       33.749   \n",
       "4  US1GACN0008  2017  24.901588   33.5967   -84.3369       33.749   \n",
       "\n",
       "   atlanta_lng  atlanta_dist  seattle_lat  seattle_lng  seattle_dist  \n",
       "0      -84.388      5.381182      47.6219    -122.3517   3507.570126  \n",
       "1      -84.388     18.844744      47.6219    -122.3517   3489.923424  \n",
       "2      -84.388      4.685188      47.6219    -122.3517   3507.224103  \n",
       "3      -84.388     12.094239      47.6219    -122.3517   3515.714198  \n",
       "4      -84.388     17.582788      47.6219    -122.3517   3521.576228  "
      ]
     },
     "execution_count": 19,
     "metadata": {},
     "output_type": "execute_result"
    }
   ],
   "source": [
    "atlanta_precip_df.head()"
   ]
  },
  {
   "cell_type": "code",
   "execution_count": 20,
   "metadata": {},
   "outputs": [
    {
     "name": "stdout",
     "output_type": "stream",
     "text": [
      "CPU times: user 3.09 ms, sys: 0 ns, total: 3.09 ms\n",
      "Wall time: 2.24 ms\n"
     ]
    }
   ],
   "source": [
    "%time seattle_precip_df = precip_year_df.merge(seattle_stations_df, on=['station_id'], how='inner')"
   ]
  },
  {
   "cell_type": "code",
   "execution_count": 21,
   "metadata": {},
   "outputs": [
    {
     "data": {
      "text/html": [
       "<div>\n",
       "<style scoped>\n",
       "    .dataframe tbody tr th:only-of-type {\n",
       "        vertical-align: middle;\n",
       "    }\n",
       "\n",
       "    .dataframe tbody tr th {\n",
       "        vertical-align: top;\n",
       "    }\n",
       "\n",
       "    .dataframe thead th {\n",
       "        text-align: right;\n",
       "    }\n",
       "</style>\n",
       "<table border=\"1\" class=\"dataframe\">\n",
       "  <thead>\n",
       "    <tr style=\"text-align: right;\">\n",
       "      <th></th>\n",
       "      <th>station_id</th>\n",
       "      <th>year</th>\n",
       "      <th>val</th>\n",
       "      <th>latitude</th>\n",
       "      <th>longitude</th>\n",
       "      <th>atlanta_lat</th>\n",
       "      <th>atlanta_lng</th>\n",
       "      <th>atlanta_dist</th>\n",
       "      <th>seattle_lat</th>\n",
       "      <th>seattle_lng</th>\n",
       "      <th>seattle_dist</th>\n",
       "    </tr>\n",
       "  </thead>\n",
       "  <tbody>\n",
       "    <tr>\n",
       "      <th>0</th>\n",
       "      <td>US1WAKG0052</td>\n",
       "      <td>2009</td>\n",
       "      <td>34.035451</td>\n",
       "      <td>47.5432</td>\n",
       "      <td>-122.3810</td>\n",
       "      <td>33.749</td>\n",
       "      <td>-84.388</td>\n",
       "      <td>3507.809139</td>\n",
       "      <td>47.6219</td>\n",
       "      <td>-122.3517</td>\n",
       "      <td>9.022762</td>\n",
       "    </tr>\n",
       "    <tr>\n",
       "      <th>1</th>\n",
       "      <td>US1WAKG0081</td>\n",
       "      <td>2012</td>\n",
       "      <td>48.086640</td>\n",
       "      <td>47.4752</td>\n",
       "      <td>-122.2019</td>\n",
       "      <td>33.749</td>\n",
       "      <td>-84.388</td>\n",
       "      <td>3493.079479</td>\n",
       "      <td>47.6219</td>\n",
       "      <td>-122.3517</td>\n",
       "      <td>19.811445</td>\n",
       "    </tr>\n",
       "    <tr>\n",
       "      <th>2</th>\n",
       "      <td>US1WAKG0074</td>\n",
       "      <td>2014</td>\n",
       "      <td>0.862205</td>\n",
       "      <td>47.5081</td>\n",
       "      <td>-122.2413</td>\n",
       "      <td>33.749</td>\n",
       "      <td>-84.388</td>\n",
       "      <td>3496.737413</td>\n",
       "      <td>47.6219</td>\n",
       "      <td>-122.3517</td>\n",
       "      <td>15.123983</td>\n",
       "    </tr>\n",
       "    <tr>\n",
       "      <th>3</th>\n",
       "      <td>US1WAKP0003</td>\n",
       "      <td>2013</td>\n",
       "      <td>28.842535</td>\n",
       "      <td>47.5857</td>\n",
       "      <td>-122.6092</td>\n",
       "      <td>33.749</td>\n",
       "      <td>-84.388</td>\n",
       "      <td>3525.537198</td>\n",
       "      <td>47.6219</td>\n",
       "      <td>-122.3517</td>\n",
       "      <td>19.720852</td>\n",
       "    </tr>\n",
       "    <tr>\n",
       "      <th>4</th>\n",
       "      <td>US1WAKG0190</td>\n",
       "      <td>2019</td>\n",
       "      <td>16.704733</td>\n",
       "      <td>47.6973</td>\n",
       "      <td>-122.3651</td>\n",
       "      <td>33.749</td>\n",
       "      <td>-84.388</td>\n",
       "      <td>3510.233418</td>\n",
       "      <td>47.6219</td>\n",
       "      <td>-122.3517</td>\n",
       "      <td>8.443948</td>\n",
       "    </tr>\n",
       "  </tbody>\n",
       "</table>\n",
       "</div>"
      ],
      "text/plain": [
       "    station_id  year        val  latitude  longitude  atlanta_lat  \\\n",
       "0  US1WAKG0052  2009  34.035451   47.5432  -122.3810       33.749   \n",
       "1  US1WAKG0081  2012  48.086640   47.4752  -122.2019       33.749   \n",
       "2  US1WAKG0074  2014   0.862205   47.5081  -122.2413       33.749   \n",
       "3  US1WAKP0003  2013  28.842535   47.5857  -122.6092       33.749   \n",
       "4  US1WAKG0190  2019  16.704733   47.6973  -122.3651       33.749   \n",
       "\n",
       "   atlanta_lng  atlanta_dist  seattle_lat  seattle_lng  seattle_dist  \n",
       "0      -84.388   3507.809139      47.6219    -122.3517      9.022762  \n",
       "1      -84.388   3493.079479      47.6219    -122.3517     19.811445  \n",
       "2      -84.388   3496.737413      47.6219    -122.3517     15.123983  \n",
       "3      -84.388   3525.537198      47.6219    -122.3517     19.720852  \n",
       "4      -84.388   3510.233418      47.6219    -122.3517      8.443948  "
      ]
     },
     "execution_count": 21,
     "metadata": {},
     "output_type": "execute_result"
    }
   ],
   "source": [
    "seattle_precip_df.head()"
   ]
  },
  {
   "cell_type": "markdown",
   "metadata": {},
   "source": [
    "Lastly, we need to normalize the total amount of rain in each city by the number of stations which collected rainfall: Seattle had twice as many stations collecting, but that doesn't mean more total rain fell! "
   ]
  },
  {
   "cell_type": "code",
   "execution_count": 22,
   "metadata": {},
   "outputs": [
    {
     "data": {
      "text/plain": [
       "year\n",
       "2014    17.184364\n",
       "2010    18.837908\n",
       "2001     3.806860\n",
       "2008     7.582453\n",
       "2019    17.752891\n",
       "Name: val, dtype: float64"
      ]
     },
     "execution_count": 22,
     "metadata": {},
     "output_type": "execute_result"
    }
   ],
   "source": [
    "atlanta_rain = atlanta_precip_df.groupby(['year']).val.sum()/len(atlanta_stations_df)\n",
    "atlanta_rain.head()"
   ]
  },
  {
   "cell_type": "code",
   "execution_count": 23,
   "metadata": {},
   "outputs": [
    {
     "data": {
      "text/plain": [
       "year\n",
       "2007     1.322925\n",
       "2014    18.120775\n",
       "2000     1.096785\n",
       "2006     1.823939\n",
       "2018    13.606187\n",
       "Name: val, dtype: float64"
      ]
     },
     "execution_count": 23,
     "metadata": {},
     "output_type": "execute_result"
    }
   ],
   "source": [
    "seattle_rain = seattle_precip_df.groupby(['year']).val.sum()/len(seattle_stations_df)\n",
    "\n",
    "seattle_rain.head()"
   ]
  },
  {
   "cell_type": "markdown",
   "metadata": {},
   "source": [
    "## Visualizing the Answer\n",
    "\n",
    "To generate the graphs in the cells below, first you'll need to ```conda install -y python-graphviz matplotlib```"
   ]
  },
  {
   "cell_type": "code",
   "execution_count": 24,
   "metadata": {},
   "outputs": [
    {
     "data": {
      "text/plain": [
       "<matplotlib.legend.Legend at 0x7f9aaa828a90>"
      ]
     },
     "execution_count": 24,
     "metadata": {},
     "output_type": "execute_result"
    },
    {
     "data": {
      "image/png": "[encoded data removed]",
      "text/plain": [
       "<Figure size 1440x720 with 1 Axes>"
      ]
     },
     "metadata": {
      "needs_background": "light"
     },
     "output_type": "display_data"
    }
   ],
   "source": [
    "%matplotlib inline\n",
    "import matplotlib.pyplot as plt\n",
    "from matplotlib.pyplot import *\n",
    "\n",
    "plt.close('all')\n",
    "plt.rcParams['figure.figsize'] = [20, 10]\n",
    "\n",
    "fig, ax = subplots()\n",
    "\n",
    "atlanta_rain.sort_index().to_pandas().plot(ax=ax)\n",
    "seattle_rain.sort_index().to_pandas().plot(ax=ax)\n",
    "\n",
    "ax.legend(['Atlanta', 'Seattle'])"
   ]
  },
  {
   "cell_type": "markdown",
   "metadata": {},
   "source": [
    "# Results\n",
    "\n",
    "It looks like I'm right (mostly)! At least for roughly the last 80 years, it rains more by volume in Atlanta than it does in Seattle. The data seems to confirm my suspicions.\n",
    "\n",
    "But as usual the answer raises additional questions:\n",
    "\n",
    "1. Without singling out Atlanta and Seattle, which city actually has the most precipitation by volume?\n",
    "\n",
    "2. Why is there such a large increase in observed precipitation in the last 10 years?\n",
    "\n",
    "3. One friend noted that it rains more frequently in Seattle, just not as hard. A contrarian was quick to point out that it mists a lot in Seattle. How often is it just \"misty\", but not really raining?\n",
    "\n",
    "We'll revisit these questions in a future post, and look forward to seeing what kinds of analyses YOU come up with."
   ]
  },
  {
   "cell_type": "markdown",
   "metadata": {},
   "source": [
    "# Takeaways\n",
    "\n",
    "We just showed some of the ways you can use Dask and cuDF to parallelize typical data processing tasks on multiple GPUs. Hopefully this notebook provides useful examples to refer to while doing your own ETL & analytics work.\n",
    "\n",
    "For more info on what's working today with Dask and cuDF, see [our summary](https://docs.rapids.ai/api/cudf/stable/), and follow [our ongoing development](https://github.com/rapidsai/cudf).\n",
    "\n",
    "Also checkout out other [community contributed notebooks](https://github.com/rapidsai/notebooks-contrib), and submit your own!"
   ]
  }
 ],
 "metadata": {
  "kernelspec": {
   "display_name": "Python 3",
   "language": "python",
   "name": "python3"
  },
  "language_info": {
   "codemirror_mode": {
    "name": "ipython",
    "version": 3
   },
   "file_extension": ".py",
   "mimetype": "text/x-python",
   "name": "python",
   "nbconvert_exporter": "python",
   "pygments_lexer": "ipython3",
   "version": "3.7.10"
  }
 },
 "nbformat": 4,
 "nbformat_minor": 4
}
